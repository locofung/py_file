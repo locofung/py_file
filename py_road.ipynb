{
 "cells": [
  {
   "cell_type": "markdown",
   "id": "7ca62d18",
   "metadata": {},
   "source": [
    "## part A: Dimensions"
   ]
  },
  {
   "cell_type": "raw",
   "id": "e0d6db04",
   "metadata": {},
   "source": [
    "1.core syntax\n",
    "2.excel with pythons\n",
    "3.SQL+DB with python(advance)\n",
    "4.Real case(YT+github) + question banks(buy)"
   ]
  },
  {
   "cell_type": "markdown",
   "id": "ec56cca2",
   "metadata": {},
   "source": [
    "## Part B: modules"
   ]
  },
  {
   "cell_type": "raw",
   "id": "a000eb82",
   "metadata": {},
   "source": [
    "1.OS\n",
    "2.Pandas\n",
    "  series\n",
    "  dataframe\n",
    "  csv\n",
    "  jason\n",
    "3.numpy\n",
    "4.mathlib"
   ]
  },
  {
   "cell_type": "markdown",
   "id": "4629d702",
   "metadata": {},
   "source": [
    "## chapter 1: OS modules"
   ]
  },
  {
   "cell_type": "code",
   "execution_count": 5,
   "id": "58165441",
   "metadata": {},
   "outputs": [
    {
     "data": {
      "text/plain": [
       "'C:\\\\Users\\\\fengs'"
      ]
     },
     "execution_count": 5,
     "metadata": {},
     "output_type": "execute_result"
    }
   ],
   "source": [
    "\"\"\"\n",
    "To get the location of the current working directory(CWD) os.getcwd() is used.\n",
    "\"\"\"\n",
    "#import os\n",
    "import pandas as pd\n",
    "os.getcwd() "
   ]
  },
  {
   "cell_type": "code",
   "execution_count": 10,
   "id": "ae6470b2",
   "metadata": {
    "scrolled": true
   },
   "outputs": [],
   "source": [
    "os.listdir() \n",
    "#show files(elements) under cwd:'C:\\\\Users\\\\fengs'"
   ]
  },
  {
   "cell_type": "code",
   "execution_count": 13,
   "id": "ce5979e2",
   "metadata": {},
   "outputs": [
    {
     "name": "stdout",
     "output_type": "stream",
     "text": [
      "C:/Users/fengs/Desktop/pd_real\\GeeksforGeeks\n",
      "Directory 'GeeksforGeeks' created\n"
     ]
    }
   ],
   "source": [
    "\"\"\"\n",
    " for creating a new folder:\n",
    "os.mkdir()\n",
    "os.makedirs()\n",
    "\"\"\"\n",
    "# Directory\n",
    "directory = \"GeeksforGeeks\"\n",
    "  \n",
    "# Parent Directory path\n",
    "parent_dir = \"C:/Users/fengs/Desktop/pd_real\"\n",
    "#copy from pc: C:\\Users\\fengs\\Desktop\\pd_real, need to change to /\n",
    "  \n",
    "# Path\n",
    "path = os.path.join(parent_dir, directory)\n",
    "print(path)\n",
    "#os.mkdir(path)\n",
    "print(\"Directory '% s' created\" % directory)"
   ]
  },
  {
   "cell_type": "code",
   "execution_count": 18,
   "id": "d09d44bf",
   "metadata": {},
   "outputs": [],
   "source": [
    "#way 1:change \\(pc) to /(pw)\n",
    "os.mkdir('C:/Users/fengs/Desktop/pd_real/gd_2')\n",
    "\n",
    "#way 2:add r: raw path\n",
    "os.mkdir(r'C:\\Users\\fengs\\Desktop\\pd_real\\gd_3')"
   ]
  },
  {
   "cell_type": "markdown",
   "id": "4f67c946",
   "metadata": {},
   "source": [
    "## chatper 2 Pandas"
   ]
  },
  {
   "cell_type": "raw",
   "id": "2f8f3aa5",
   "metadata": {},
   "source": [
    "1.pandas.series() is a one-dimensional labeled array capable of holding data of any type,like a    list\n",
    "  df is 2-d array\n",
    "2.pandas.Series( data, index, dtype, name, copy)\n",
    "3.類似於DF['xxxx'] 單獨一個col"
   ]
  },
  {
   "cell_type": "raw",
   "id": "6caf39dc",
   "metadata": {},
   "source": [
    "excel            pandas\n",
    "worksheet        Dataframe\n",
    "column           series\n",
    "row heading      index\n",
    "row              row\n",
    "Empty cell       NaN"
   ]
  },
  {
   "cell_type": "code",
   "execution_count": 19,
   "id": "2761cab0",
   "metadata": {},
   "outputs": [],
   "source": [
    "import pandas as pd\n",
    "import numpy  as np"
   ]
  },
  {
   "cell_type": "markdown",
   "id": "10d462e0",
   "metadata": {},
   "source": [
    "### 2.1 create DF with list"
   ]
  },
  {
   "cell_type": "code",
   "execution_count": 26,
   "id": "0b1a8d56",
   "metadata": {},
   "outputs": [
    {
     "data": {
      "text/plain": [
       "0    g\n",
       "1    e\n",
       "2    e\n",
       "3    k\n",
       "4    s\n",
       "dtype: object"
      ]
     },
     "execution_count": 26,
     "metadata": {},
     "output_type": "execute_result"
    }
   ],
   "source": [
    "list = ['g', 'e', 'e', 'k', 's']\n",
    "ser = pd.Series(list)\n",
    "ser"
   ]
  },
  {
   "cell_type": "code",
   "execution_count": 21,
   "id": "966b0f2c",
   "metadata": {},
   "outputs": [
    {
     "name": "stdout",
     "output_type": "stream",
     "text": [
      "[[1 4]\n",
      " [2 5]\n",
      " [8 9]]\n"
     ]
    }
   ],
   "source": [
    "data=np.array([[1,4],[2,5],[8,9]]) \n",
    "print(data)\n",
    "#[1,4] is 1 row record,[2,5] is 2nd row"
   ]
  },
  {
   "cell_type": "code",
   "execution_count": 25,
   "id": "4c949726",
   "metadata": {},
   "outputs": [
    {
     "data": {
      "text/html": [
       "<div>\n",
       "<style scoped>\n",
       "    .dataframe tbody tr th:only-of-type {\n",
       "        vertical-align: middle;\n",
       "    }\n",
       "\n",
       "    .dataframe tbody tr th {\n",
       "        vertical-align: top;\n",
       "    }\n",
       "\n",
       "    .dataframe thead th {\n",
       "        text-align: right;\n",
       "    }\n",
       "</style>\n",
       "<table border=\"1\" class=\"dataframe\">\n",
       "  <thead>\n",
       "    <tr style=\"text-align: right;\">\n",
       "      <th></th>\n",
       "      <th>0</th>\n",
       "      <th>1</th>\n",
       "    </tr>\n",
       "  </thead>\n",
       "  <tbody>\n",
       "    <tr>\n",
       "      <th>0</th>\n",
       "      <td>1</td>\n",
       "      <td>4</td>\n",
       "    </tr>\n",
       "    <tr>\n",
       "      <th>1</th>\n",
       "      <td>2</td>\n",
       "      <td>5</td>\n",
       "    </tr>\n",
       "    <tr>\n",
       "      <th>2</th>\n",
       "      <td>8</td>\n",
       "      <td>9</td>\n",
       "    </tr>\n",
       "  </tbody>\n",
       "</table>\n",
       "</div>"
      ],
      "text/plain": [
       "   0  1\n",
       "0  1  4\n",
       "1  2  5\n",
       "2  8  9"
      ]
     },
     "execution_count": 25,
     "metadata": {},
     "output_type": "execute_result"
    }
   ],
   "source": [
    "#pandas.Series( data, index, dtype, name, copy)\n",
    "#pandas.DataFrame(data=None, index=None, columns=None, dtype=None, copy=None)\n",
    "data2=pd.DataFrame(data) \n",
    "data2"
   ]
  },
  {
   "cell_type": "code",
   "execution_count": 27,
   "id": "7b4a5c94",
   "metadata": {},
   "outputs": [
    {
     "data": {
      "text/html": [
       "<div>\n",
       "<style scoped>\n",
       "    .dataframe tbody tr th:only-of-type {\n",
       "        vertical-align: middle;\n",
       "    }\n",
       "\n",
       "    .dataframe tbody tr th {\n",
       "        vertical-align: top;\n",
       "    }\n",
       "\n",
       "    .dataframe thead th {\n",
       "        text-align: right;\n",
       "    }\n",
       "</style>\n",
       "<table border=\"1\" class=\"dataframe\">\n",
       "  <thead>\n",
       "    <tr style=\"text-align: right;\">\n",
       "      <th></th>\n",
       "      <th>col1</th>\n",
       "      <th>col2</th>\n",
       "    </tr>\n",
       "  </thead>\n",
       "  <tbody>\n",
       "    <tr>\n",
       "      <th>row1</th>\n",
       "      <td>1</td>\n",
       "      <td>4</td>\n",
       "    </tr>\n",
       "    <tr>\n",
       "      <th>row2</th>\n",
       "      <td>2</td>\n",
       "      <td>5</td>\n",
       "    </tr>\n",
       "    <tr>\n",
       "      <th>row3</th>\n",
       "      <td>8</td>\n",
       "      <td>9</td>\n",
       "    </tr>\n",
       "  </tbody>\n",
       "</table>\n",
       "</div>"
      ],
      "text/plain": [
       "      col1  col2\n",
       "row1     1     4\n",
       "row2     2     5\n",
       "row3     8     9"
      ]
     },
     "execution_count": 27,
     "metadata": {},
     "output_type": "execute_result"
    }
   ],
   "source": [
    "data3=pd.DataFrame(data,index=['row1','row2','row3'],columns=['col1','col2'])\n",
    "data3  \n",
    "#index is rows names \n"
   ]
  },
  {
   "cell_type": "markdown",
   "id": "7ebfd52c",
   "metadata": {},
   "source": [
    "### 2.2 create dataframe with dict"
   ]
  },
  {
   "cell_type": "code",
   "execution_count": null,
   "id": "3b4015bb",
   "metadata": {},
   "outputs": [],
   "source": [
    "#list for this example\n"
   ]
  }
 ],
 "metadata": {
  "kernelspec": {
   "display_name": "Python 3 (ipykernel)",
   "language": "python",
   "name": "python3"
  },
  "language_info": {
   "codemirror_mode": {
    "name": "ipython",
    "version": 3
   },
   "file_extension": ".py",
   "mimetype": "text/x-python",
   "name": "python",
   "nbconvert_exporter": "python",
   "pygments_lexer": "ipython3",
   "version": "3.9.7"
  }
 },
 "nbformat": 4,
 "nbformat_minor": 5
}
